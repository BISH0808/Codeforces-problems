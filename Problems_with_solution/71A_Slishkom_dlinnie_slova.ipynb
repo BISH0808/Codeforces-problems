{
  "nbformat": 4,
  "nbformat_minor": 0,
  "metadata": {
    "colab": {
      "provenance": [],
      "authorship_tag": "ABX9TyOTpU+fwx0yuNpOdvkUwhFb",
      "include_colab_link": true
    },
    "kernelspec": {
      "name": "python3",
      "display_name": "Python 3"
    },
    "language_info": {
      "name": "python"
    }
  },
  "cells": [
    {
      "cell_type": "markdown",
      "metadata": {
        "id": "view-in-github",
        "colab_type": "text"
      },
      "source": [
        "<a href=\"https://colab.research.google.com/github/BISH0808/Codeforces-problems/blob/main/Problems_with_solution/71A_Slishkom_dlinnie_slova.ipynb\" target=\"_parent\"><img src=\"https://colab.research.google.com/assets/colab-badge.svg\" alt=\"Open In Colab\"/></a>"
      ]
    },
    {
      "cell_type": "markdown",
      "source": [
        "# Краткое условие задачи"
      ],
      "metadata": {
        "id": "7Ke_kCW57DDL"
      }
    },
    {
      "cell_type": "markdown",
      "source": [
        "Будем считать слово слишком длинным, если его длина строго больше 10 символов. \n",
        "Все слишком длинные слова можно заменить специальной аббревиатурой.\n",
        "Эта аббревиатура строится следующим образом: записывается первая и последняя буква слова, а между ними — количество букв между первой и последней буквой (в десятичной системе счисления и без ведущих нулей).\n",
        "Таком образом, «localization» запишется как «l10n», а «internationalization» как «i18n».\n",
        "Вам предлагается автоматизировать процесс замены слов на аббревиатуры. \n",
        "При этом все слишком длинные слова должны быть заменены аббревиатурой, а слова, не являющиеся слишком длинными, должны остаться без изменений."
      ],
      "metadata": {
        "id": "PHSwuhM6-rUD"
      }
    },
    {
      "cell_type": "markdown",
      "source": [
        "# Полное решение"
      ],
      "metadata": {
        "id": "n26wSP9R7FE5"
      }
    },
    {
      "cell_type": "code",
      "source": [
        "import sys\n",
        "\n",
        "n = int(sys.stdin.readline().split()[0])\n",
        "\n",
        "\n",
        "words=[]\n",
        "\n",
        "for line in sys.stdin:\n",
        "    for word in line.split():\n",
        "        words.append(word)\n",
        "for word in words:\n",
        "    if len(word)>10:\n",
        "        print(word[0]+str(len(word)-2)+word[-1])\n",
        "    else:\n",
        "        print(word)"
      ],
      "metadata": {
        "id": "9QkerNnwCD7y"
      },
      "execution_count": null,
      "outputs": []
    },
    {
      "cell_type": "markdown",
      "source": [
        "# Альтернативное решение"
      ],
      "metadata": {
        "id": "A8JAEZLMBh_L"
      }
    },
    {
      "cell_type": "code",
      "source": [
        "n = input()\n",
        "\n",
        "print(n)\n",
        "\n",
        "words=[]\n",
        "\n",
        "for line in n:\n",
        "    for word in line.split():\n",
        "        words.append(word)\n",
        "for word in words:\n",
        "    if len(word)>10:\n",
        "        print(word[0]+str(len(word)-2)+word[-1])\n",
        "    else:\n",
        "        print(word)"
      ],
      "metadata": {
        "id": "9M60iEaRBo15"
      },
      "execution_count": null,
      "outputs": []
    }
  ]
}