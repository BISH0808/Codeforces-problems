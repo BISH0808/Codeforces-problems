{
  "nbformat": 4,
  "nbformat_minor": 0,
  "metadata": {
    "colab": {
      "provenance": [],
      "authorship_tag": "ABX9TyPXhyMRRqRfXsgLnpiwvEdD",
      "include_colab_link": true
    },
    "kernelspec": {
      "name": "python3",
      "display_name": "Python 3"
    },
    "language_info": {
      "name": "python"
    }
  },
  "cells": [
    {
      "cell_type": "markdown",
      "metadata": {
        "id": "view-in-github",
        "colab_type": "text"
      },
      "source": [
        "<a href=\"https://colab.research.google.com/github/BISH0808/Codeforces-problems/blob/main/Slishkom_dlinnie_slova.ipynb\" target=\"_parent\"><img src=\"https://colab.research.google.com/assets/colab-badge.svg\" alt=\"Open In Colab\"/></a>"
      ]
    },
    {
      "cell_type": "markdown",
      "source": [
        "# Полное решение"
      ],
      "metadata": {
        "id": "n26wSP9R7FE5"
      }
    },
    {
      "cell_type": "markdown",
      "source": [
        "import sys\n",
        "\n",
        "n = int(sys.stdin.readline().split()[0])\n",
        "\n",
        "\n",
        "words=[]\n",
        "\n",
        "for line in sys.stdin:\n",
        "\n",
        "    for word in line.split():\n",
        "\n",
        "        words.append(word)\n",
        "for word in words:\n",
        "\n",
        "    if len(word)>10:\n",
        "\n",
        "        print(word[0]+str(len(word)-2)+word[-1])\n",
        "\n",
        "    else:\n",
        "    \n",
        "        print(word)"
      ],
      "metadata": {
        "id": "VGBpukk77Hbg"
      }
    }
  ]
}