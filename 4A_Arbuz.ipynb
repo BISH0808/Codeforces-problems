{
  "nbformat": 4,
  "nbformat_minor": 0,
  "metadata": {
    "colab": {
      "provenance": [],
      "authorship_tag": "ABX9TyPGTYoji2KuxulJ9de2MlrZ",
      "include_colab_link": true
    },
    "kernelspec": {
      "name": "python3",
      "display_name": "Python 3"
    },
    "language_info": {
      "name": "python"
    }
  },
  "cells": [
    {
      "cell_type": "markdown",
      "metadata": {
        "id": "view-in-github",
        "colab_type": "text"
      },
      "source": [
        "<a href=\"https://colab.research.google.com/github/BISH0808/Codeforces-problems/blob/main/4A_Arbuz.ipynb\" target=\"_parent\"><img src=\"https://colab.research.google.com/assets/colab-badge.svg\" alt=\"Open In Colab\"/></a>"
      ]
    },
    {
      "cell_type": "markdown",
      "source": [
        "# Полное  решение"
      ],
      "metadata": {
        "id": "0kbwxZNJ9TE1"
      }
    },
    {
      "cell_type": "code",
      "execution_count": null,
      "metadata": {
        "id": "d-iqHB7V4kKq"
      },
      "outputs": [],
      "source": [
        "\n",
        "import sys\n",
        "a= int(sys.stdin.readline().split()[0])\n",
        "\n",
        "if a % 2 !=0 or a<4:\n",
        "    print(\"no\")\n",
        "else:\n",
        "    print(\"yes\")\n",
        "\n",
        "\n"
      ]
    },
    {
      "cell_type": "markdown",
      "source": [
        "#Альтренативное неполное решение\n"
      ],
      "metadata": {
        "id": "3V_yhP5e9SaF"
      }
    },
    {
      "cell_type": "code",
      "source": [
        "def main():\n",
        "    a = int(input()[0])\n",
        "    if a % 2 !=0 or a < 4:\n",
        "        print(\"no\")\n",
        "    else:\n",
        "        print(\"yes\")\n",
        "    \n",
        "\n",
        "main()"
      ],
      "metadata": {
        "id": "PzxGkT5H9Xpj"
      },
      "execution_count": null,
      "outputs": []
    },
    {
      "cell_type": "markdown",
      "source": [
        "**Неправильный ответ на тесте 9**"
      ],
      "metadata": {
        "id": "LJsRxXMY9bn8"
      }
    }
  ]
}