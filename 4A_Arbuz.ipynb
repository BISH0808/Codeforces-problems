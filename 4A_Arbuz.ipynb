{
  "nbformat": 4,
  "nbformat_minor": 0,
  "metadata": {
    "colab": {
      "provenance": [],
      "authorship_tag": "ABX9TyOKI+NKBzEKf7uoFE7CTRkY",
      "include_colab_link": true
    },
    "kernelspec": {
      "name": "python3",
      "display_name": "Python 3"
    },
    "language_info": {
      "name": "python"
    }
  },
  "cells": [
    {
      "cell_type": "markdown",
      "metadata": {
        "id": "view-in-github",
        "colab_type": "text"
      },
      "source": [
        "<a href=\"https://colab.research.google.com/github/BISH0808/Codeforces-problems/blob/main/4A_Arbuz.ipynb\" target=\"_parent\"><img src=\"https://colab.research.google.com/assets/colab-badge.svg\" alt=\"Open In Colab\"/></a>"
      ]
    },
    {
      "cell_type": "code",
      "execution_count": null,
      "metadata": {
        "id": "d-iqHB7V4kKq"
      },
      "outputs": [],
      "source": [
        "def main():\n",
        "    a = int(input()[0])\n",
        "    if a % 2 !=0:\n",
        "        print(\"no\")\n",
        "    else:\n",
        "        print(\"yes\")\n",
        "    \n",
        "\n",
        "main()\n",
        "\n",
        "#неправильный ответ на тесте 5"
      ]
    }
  ]
}