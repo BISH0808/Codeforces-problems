{
  "nbformat": 4,
  "nbformat_minor": 0,
  "metadata": {
    "colab": {
      "provenance": [],
      "authorship_tag": "ABX9TyOf3/Jj8kVbPnT71dPyCLIq",
      "include_colab_link": true
    },
    "kernelspec": {
      "name": "python3",
      "display_name": "Python 3"
    },
    "language_info": {
      "name": "python"
    }
  },
  "cells": [
    {
      "cell_type": "markdown",
      "metadata": {
        "id": "view-in-github",
        "colab_type": "text"
      },
      "source": [
        "<a href=\"https://colab.research.google.com/github/BISH0808/Codeforces-problems/blob/main/Problems_in_process/231A_Komanda.ipynb\" target=\"_parent\"><img src=\"https://colab.research.google.com/assets/colab-badge.svg\" alt=\"Open In Colab\"/></a>"
      ]
    },
    {
      "cell_type": "markdown",
      "source": [
        "# Краткое условие задачи\n"
      ],
      "metadata": {
        "id": "FhA820LPUeRJ"
      }
    },
    {
      "cell_type": "markdown",
      "source": [
        "Перед началом друзья договорились, что они будут реализовывать задачу, если как минимум двое из них придумали и уверены в решении, в противном случае ребята не \n",
        "будут писать решение этой задачи."
      ],
      "metadata": {
        "id": "vPsqL9gpUfX_"
      }
    },
    {
      "cell_type": "markdown",
      "source": [
        "#Алгоритмы"
      ],
      "metadata": {
        "id": "KT7X2ph2Ul8f"
      }
    },
    {
      "cell_type": "markdown",
      "source": [
        "Жадные алгоритмы, перебор"
      ],
      "metadata": {
        "id": "Yvf1ikqxZ2UA"
      }
    },
    {
      "cell_type": "markdown",
      "source": [
        "# Полное решение"
      ],
      "metadata": {
        "id": "QUWfUeFXbsD4"
      }
    },
    {
      "cell_type": "code",
      "source": [
        "import sys\n",
        "\n",
        "n = int(sys.stdin.readline().split()[0])\n",
        "\n",
        "tasks = [[0 for x in range(3)] for y in range(n)]\n",
        "\n",
        "row=0\n",
        "\n",
        "for line in sys.stdin:\n",
        "    column = 0\n",
        "    for word in line.split():\n",
        "        tasks(row)[column]=int(word)\n",
        "        column += 1\n",
        "    row +=1\n",
        "    \n",
        "print(tasks)"
      ],
      "metadata": {
        "id": "xM6aN4TBesNo"
      },
      "execution_count": null,
      "outputs": []
    },
    {
      "cell_type": "markdown",
      "source": [
        "Пока не работает. #Ошибка:\n",
        "Ошибка исполнения на тесте 1"
      ],
      "metadata": {
        "id": "ekNMqHQsdC9g"
      }
    }
  ]
}